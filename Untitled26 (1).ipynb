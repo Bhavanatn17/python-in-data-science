{
 "cells": [
  {
   "cell_type": "code",
   "execution_count": 15,
   "id": "712443a2-a3ba-4a1e-9e4a-7f12f4a46246",
   "metadata": {},
   "outputs": [],
   "source": [
    "import cv2"
   ]
  },
  {
   "cell_type": "code",
   "execution_count": 16,
   "id": "d4df6b32-d726-4040-a36b-1862d664ff4c",
   "metadata": {},
   "outputs": [
    {
     "name": "stdout",
     "output_type": "stream",
     "text": [
      "Defaulting to user installation because normal site-packages is not writeable\n",
      "Requirement already satisfied: opencv-python in ./.local/lib/python3.10/site-packages (4.8.1.78)\n",
      "Requirement already satisfied: numpy>=1.17.0 in ./.local/lib/python3.10/site-packages (from opencv-python) (1.25.2)\n",
      "Note: you may need to restart the kernel to use updated packages.\n"
     ]
    }
   ],
   "source": [
    "pip install opencv-python\n"
   ]
  },
  {
   "cell_type": "code",
   "execution_count": 17,
   "id": "9387ac4d-293d-4689-9c4e-7f09042987ef",
   "metadata": {},
   "outputs": [
    {
     "name": "stdout",
     "output_type": "stream",
     "text": [
      "Defaulting to user installation because normal site-packages is not writeable\n",
      "Requirement already satisfied: wget in ./.local/lib/python3.10/site-packages (3.2)\n",
      "Note: you may need to restart the kernel to use updated packages.\n"
     ]
    }
   ],
   "source": [
    "pip install wget"
   ]
  },
  {
   "cell_type": "code",
   "execution_count": 20,
   "id": "be046fd1-e9ab-4780-9f0c-a6551003c2a6",
   "metadata": {},
   "outputs": [],
   "source": [
    "import requests\n",
    "import wget"
   ]
  },
  {
   "cell_type": "code",
   "execution_count": 27,
   "id": "b0c64014-dac9-48c1-ad70-d77f5e81a1a6",
   "metadata": {},
   "outputs": [
    {
     "name": "stdout",
     "output_type": "stream",
     "text": [
      "-1 / unknown"
     ]
    }
   ],
   "source": [
    "url=\"https://github.com/kipr/opencv/blob/master/data/haarcascades/haarcascade_frontalface_default.xm\n",
    "filename=wget.download(url)"
   ]
  },
  {
   "cell_type": "code",
   "execution_count": 28,
   "id": "f76f18ac-a516-4e6e-9a6d-a82a0ff50552",
   "metadata": {},
   "outputs": [
    {
     "data": {
      "text/plain": [
       "'haarcascade_frontalface_default.xml'"
      ]
     },
     "execution_count": 28,
     "metadata": {},
     "output_type": "execute_result"
    }
   ],
   "source": [
    "filename"
   ]
  },
  {
   "cell_type": "code",
   "execution_count": 31,
   "id": "e78f7a3b-e471-4246-a965-d6987d6397fc",
   "metadata": {},
   "outputs": [],
   "source": [
    "face_cascade = cv2.CascadeClassifier(cv2.data.haarcascades+filename)"
   ]
  },
  {
   "cell_type": "code",
   "execution_count": 32,
   "id": "7a55124d-466a-4b22-802a-2e8e81c2a460",
   "metadata": {},
   "outputs": [
    {
     "data": {
      "text/plain": [
       "< cv2.CascadeClassifier 0x7f3a14228890>"
      ]
     },
     "execution_count": 32,
     "metadata": {},
     "output_type": "execute_result"
    }
   ],
   "source": [
    "face_cascade"
   ]
  },
  {
   "cell_type": "code",
   "execution_count": 34,
   "id": "65838dbf-b70c-4452-9ebf-adcaa860457f",
   "metadata": {},
   "outputs": [],
   "source": [
    "def detect(gray,frame):\n",
    "    faces = face_cascade.detectMultiscale(grey,1.3,5)\n",
    "    for(x,y,w,h)in faces:\n",
    "        cv2.rectangle(fram,(x,y),(x+w,y+h),(255,0,0),4)\n",
    "        roi_gray = gray[y:y+h,x:x+w]\n",
    "    return frame"
   ]
  },
  {
   "cell_type": "code",
   "execution_count": 36,
   "id": "aa7b3282-6d33-4353-87c1-b12b3ceae254",
   "metadata": {},
   "outputs": [
    {
     "name": "stderr",
     "output_type": "stream",
     "text": [
      "[ WARN:0@2276.950] global loadsave.cpp:248 findDecoder imread_(''): can't open/read file: check file path/integrity\n"
     ]
    }
   ],
   "source": [
    "image_path = r\"\"\n",
    "image = cv2.imread(image_path)"
   ]
  },
  {
   "cell_type": "code",
   "execution_count": 37,
   "id": "0a58f894-03bc-48ab-89d5-cc400ca77bd1",
   "metadata": {},
   "outputs": [
    {
     "ename": "AttributeError",
     "evalue": "module 'cv2' has no attribute 'cvtcolor'",
     "output_type": "error",
     "traceback": [
      "\u001b[0;31m---------------------------------------------------------------------------\u001b[0m",
      "\u001b[0;31mAttributeError\u001b[0m                            Traceback (most recent call last)",
      "Cell \u001b[0;32mIn[37], line 1\u001b[0m\n\u001b[0;32m----> 1\u001b[0m gray \u001b[38;5;241m=\u001b[39m \u001b[43mcv2\u001b[49m\u001b[38;5;241;43m.\u001b[39;49m\u001b[43mcvtcolor\u001b[49m(image,cv2\u001b[38;5;241m.\u001b[39mCOLOR_BGR2GRAY)\n\u001b[1;32m      2\u001b[0m canvas \u001b[38;5;241m=\u001b[39m detect(gray,image)\n\u001b[1;32m      3\u001b[0m cv2_imshow(canvas)\n",
      "\u001b[0;31mAttributeError\u001b[0m: module 'cv2' has no attribute 'cvtcolor'"
     ]
    }
   ],
   "source": [
    "gray = cv2.cvtcolor(image,cv2.COLOR_BGR2GRAY)\n",
    "canvas = detect(gray,image)\n",
    "cv2_imshow(canvas)"
   ]
  },
  {
   "cell_type": "code",
   "execution_count": null,
   "id": "bcd458a9-431b-46d2-af18-9c43f482bb57",
   "metadata": {},
   "outputs": [],
   "source": []
  }
 ],
 "metadata": {
  "kernelspec": {
   "display_name": "Python 3 (ipykernel)",
   "language": "python",
   "name": "python3"
  },
  "language_info": {
   "codemirror_mode": {
    "name": "ipython",
    "version": 3
   },
   "file_extension": ".py",
   "mimetype": "text/x-python",
   "name": "python",
   "nbconvert_exporter": "python",
   "pygments_lexer": "ipython3",
   "version": "3.10.12"
  }
 },
 "nbformat": 4,
 "nbformat_minor": 5
}
